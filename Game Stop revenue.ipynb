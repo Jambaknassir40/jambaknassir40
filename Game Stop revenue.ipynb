{
 "cells": [
  {
   "cell_type": "code",
   "execution_count": 27,
   "id": "28515047",
   "metadata": {},
   "outputs": [],
   "source": [
    "import yfinance as yf\n",
    "import pandas as pd\n",
    "import requests\n",
    "import plotly.graph_objects as go\n",
    "from plotly.subplots import make_subplots"
   ]
  },
  {
   "cell_type": "code",
   "execution_count": 3,
   "id": "48f4c684",
   "metadata": {},
   "outputs": [
    {
     "name": "stderr",
     "output_type": "stream",
     "text": [
      "[*********************100%%**********************]  1 of 1 completed\n"
     ]
    }
   ],
   "source": [
    "# Get the stock data\n",
    "gme_data = yf.download('GME', start='2020-01-01', end='2024-04-01')"
   ]
  },
  {
   "cell_type": "code",
   "execution_count": 4,
   "id": "d4a11e2b",
   "metadata": {},
   "outputs": [],
   "source": [
    "gme_data.reset_index(inplace=True)"
   ]
  },
  {
   "cell_type": "code",
   "execution_count": 6,
   "id": "4b522f95",
   "metadata": {},
   "outputs": [],
   "source": [
    "gme_data.to_csv('gme_data.csv', index=False)"
   ]
  },
  {
   "cell_type": "code",
   "execution_count": 7,
   "id": "c4b6c759",
   "metadata": {},
   "outputs": [
    {
     "name": "stdout",
     "output_type": "stream",
     "text": [
      "        Date    Open    High     Low   Close  Adj Close    Volume\n",
      "0 2020-01-02  1.5350  1.6175  1.5175  1.5775     1.5775  17814400\n",
      "1 2020-01-03  1.5525  1.5625  1.4600  1.4700     1.4700  14175600\n",
      "2 2020-01-06  1.4500  1.4775  1.4000  1.4625     1.4625  13579200\n",
      "3 2020-01-07  1.4425  1.4575  1.3600  1.3800     1.3800  20912000\n",
      "4 2020-01-08  1.3725  1.4625  1.3525  1.4300     1.4300  22517600\n"
     ]
    }
   ],
   "source": [
    "print(gme_data.head())"
   ]
  },
  {
   "cell_type": "code",
   "execution_count": 26,
   "id": "f471913c",
   "metadata": {},
   "outputs": [
    {
     "name": "stdout",
     "output_type": "stream",
     "text": [
      "           Date   Open   High    Low  Close  Adj Close    Volume\n",
      "1062 2024-03-22  13.76  13.95  13.01  13.10      13.10   4400000\n",
      "1063 2024-03-25  13.42  15.15  13.31  15.12      15.12  10416300\n",
      "1064 2024-03-26  15.15  15.63  14.75  15.50      15.50  17245800\n",
      "1065 2024-03-27  13.05  13.72  12.80  13.17      13.17  17871300\n",
      "1066 2024-03-28  13.19  13.19  12.47  12.52      12.52   8473500\n"
     ]
    }
   ],
   "source": [
    "print(gme_data.tail())"
   ]
  },
  {
   "cell_type": "raw",
   "id": "5c60313c",
   "metadata": {},
   "source": []
  }
 ],
 "metadata": {
  "kernelspec": {
   "display_name": "Python 3 (ipykernel)",
   "language": "python",
   "name": "python3"
  },
  "language_info": {
   "codemirror_mode": {
    "name": "ipython",
    "version": 3
   },
   "file_extension": ".py",
   "mimetype": "text/x-python",
   "name": "python",
   "nbconvert_exporter": "python",
   "pygments_lexer": "ipython3",
   "version": "3.11.5"
  }
 },
 "nbformat": 4,
 "nbformat_minor": 5
}
