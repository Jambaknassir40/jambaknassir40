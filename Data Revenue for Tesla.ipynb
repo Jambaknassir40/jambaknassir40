{
 "cells": [
  {
   "cell_type": "code",
   "execution_count": 117,
   "id": "aaa945f6",
   "metadata": {},
   "outputs": [],
   "source": [
    "import pandas as pd\n",
    "import yfinance as yf\n",
    "import matplotlib.pyplot as plt\n",
    "import requests"
   ]
  },
  {
   "cell_type": "code",
   "execution_count": 3,
   "id": "40e7510a",
   "metadata": {},
   "outputs": [],
   "source": [
    "# Get the Tesla stock data\n",
    "tesla_data = yf.Ticker(\"TSLA\").history(period=\"1y\", interval=\"1d\")"
   ]
  },
  {
   "cell_type": "code",
   "execution_count": 4,
   "id": "6b61a5ee",
   "metadata": {},
   "outputs": [
    {
     "data": {
      "text/html": [
       "<div>\n",
       "<style scoped>\n",
       "    .dataframe tbody tr th:only-of-type {\n",
       "        vertical-align: middle;\n",
       "    }\n",
       "\n",
       "    .dataframe tbody tr th {\n",
       "        vertical-align: top;\n",
       "    }\n",
       "\n",
       "    .dataframe thead th {\n",
       "        text-align: right;\n",
       "    }\n",
       "</style>\n",
       "<table border=\"1\" class=\"dataframe\">\n",
       "  <thead>\n",
       "    <tr style=\"text-align: right;\">\n",
       "      <th></th>\n",
       "      <th>Open</th>\n",
       "      <th>High</th>\n",
       "      <th>Low</th>\n",
       "      <th>Close</th>\n",
       "      <th>Volume</th>\n",
       "      <th>Dividends</th>\n",
       "      <th>Stock Splits</th>\n",
       "    </tr>\n",
       "    <tr>\n",
       "      <th>Date</th>\n",
       "      <th></th>\n",
       "      <th></th>\n",
       "      <th></th>\n",
       "      <th></th>\n",
       "      <th></th>\n",
       "      <th></th>\n",
       "      <th></th>\n",
       "    </tr>\n",
       "  </thead>\n",
       "  <tbody>\n",
       "    <tr>\n",
       "      <th>2023-03-29 00:00:00-04:00</th>\n",
       "      <td>193.130005</td>\n",
       "      <td>195.289993</td>\n",
       "      <td>189.440002</td>\n",
       "      <td>193.880005</td>\n",
       "      <td>123660000</td>\n",
       "      <td>0.0</td>\n",
       "      <td>0.0</td>\n",
       "    </tr>\n",
       "    <tr>\n",
       "      <th>2023-03-30 00:00:00-04:00</th>\n",
       "      <td>195.580002</td>\n",
       "      <td>197.330002</td>\n",
       "      <td>194.419998</td>\n",
       "      <td>195.279999</td>\n",
       "      <td>110252200</td>\n",
       "      <td>0.0</td>\n",
       "      <td>0.0</td>\n",
       "    </tr>\n",
       "    <tr>\n",
       "      <th>2023-03-31 00:00:00-04:00</th>\n",
       "      <td>197.529999</td>\n",
       "      <td>207.789993</td>\n",
       "      <td>197.199997</td>\n",
       "      <td>207.460007</td>\n",
       "      <td>170222100</td>\n",
       "      <td>0.0</td>\n",
       "      <td>0.0</td>\n",
       "    </tr>\n",
       "    <tr>\n",
       "      <th>2023-04-03 00:00:00-04:00</th>\n",
       "      <td>199.910004</td>\n",
       "      <td>202.690002</td>\n",
       "      <td>192.199997</td>\n",
       "      <td>194.770004</td>\n",
       "      <td>169545900</td>\n",
       "      <td>0.0</td>\n",
       "      <td>0.0</td>\n",
       "    </tr>\n",
       "    <tr>\n",
       "      <th>2023-04-04 00:00:00-04:00</th>\n",
       "      <td>197.320007</td>\n",
       "      <td>198.740005</td>\n",
       "      <td>190.320007</td>\n",
       "      <td>192.580002</td>\n",
       "      <td>126463800</td>\n",
       "      <td>0.0</td>\n",
       "      <td>0.0</td>\n",
       "    </tr>\n",
       "  </tbody>\n",
       "</table>\n",
       "</div>"
      ],
      "text/plain": [
       "                                 Open        High         Low       Close  \\\n",
       "Date                                                                        \n",
       "2023-03-29 00:00:00-04:00  193.130005  195.289993  189.440002  193.880005   \n",
       "2023-03-30 00:00:00-04:00  195.580002  197.330002  194.419998  195.279999   \n",
       "2023-03-31 00:00:00-04:00  197.529999  207.789993  197.199997  207.460007   \n",
       "2023-04-03 00:00:00-04:00  199.910004  202.690002  192.199997  194.770004   \n",
       "2023-04-04 00:00:00-04:00  197.320007  198.740005  190.320007  192.580002   \n",
       "\n",
       "                              Volume  Dividends  Stock Splits  \n",
       "Date                                                           \n",
       "2023-03-29 00:00:00-04:00  123660000        0.0           0.0  \n",
       "2023-03-30 00:00:00-04:00  110252200        0.0           0.0  \n",
       "2023-03-31 00:00:00-04:00  170222100        0.0           0.0  \n",
       "2023-04-03 00:00:00-04:00  169545900        0.0           0.0  \n",
       "2023-04-04 00:00:00-04:00  126463800        0.0           0.0  "
      ]
     },
     "execution_count": 4,
     "metadata": {},
     "output_type": "execute_result"
    }
   ],
   "source": [
    "# Display the first 5 rows\n",
    "tesla_data.head()"
   ]
  },
  {
   "cell_type": "code",
   "execution_count": 6,
   "id": "8529d11b",
   "metadata": {},
   "outputs": [],
   "source": [
    "# Save the dataframe to a CSV file\n",
    "\n",
    "tesla_data.to_csv('tesla_data.csv', index=False)"
   ]
  },
  {
   "cell_type": "code",
   "execution_count": 7,
   "id": "395ef22f",
   "metadata": {},
   "outputs": [],
   "source": [
    "# Reset the index\n",
    "\n",
    "tesla_data.reset_index(drop=True, inplace=True) "
   ]
  },
  {
   "cell_type": "code",
   "execution_count": 81,
   "id": "b4db2014",
   "metadata": {},
   "outputs": [],
   "source": [
    "url = 'https://www.macrotrends.net/stocks/charts/TSLA/tesla/revenue'"
   ]
  },
  {
   "cell_type": "code",
   "execution_count": 90,
   "id": "45543398",
   "metadata": {},
   "outputs": [],
   "source": [
    "html_data = requests.get(url).text"
   ]
  },
  {
   "cell_type": "code",
   "execution_count": 104,
   "id": "b3f1d042",
   "metadata": {},
   "outputs": [
    {
     "data": {
      "text/html": [
       "<div>\n",
       "<style scoped>\n",
       "    .dataframe tbody tr th:only-of-type {\n",
       "        vertical-align: middle;\n",
       "    }\n",
       "\n",
       "    .dataframe tbody tr th {\n",
       "        vertical-align: top;\n",
       "    }\n",
       "\n",
       "    .dataframe thead th {\n",
       "        text-align: right;\n",
       "    }\n",
       "</style>\n",
       "<table border=\"1\" class=\"dataframe\">\n",
       "  <thead>\n",
       "    <tr style=\"text-align: right;\">\n",
       "      <th></th>\n",
       "      <th>Open</th>\n",
       "      <th>High</th>\n",
       "      <th>Low</th>\n",
       "      <th>Close</th>\n",
       "      <th>Volume</th>\n",
       "      <th>Dividends</th>\n",
       "      <th>Stock Splits</th>\n",
       "    </tr>\n",
       "  </thead>\n",
       "  <tbody>\n",
       "    <tr>\n",
       "      <th>247</th>\n",
       "      <td>166.690002</td>\n",
       "      <td>171.199997</td>\n",
       "      <td>166.300003</td>\n",
       "      <td>170.830002</td>\n",
       "      <td>75454700</td>\n",
       "      <td>0.0</td>\n",
       "      <td>0.0</td>\n",
       "    </tr>\n",
       "    <tr>\n",
       "      <th>248</th>\n",
       "      <td>168.759995</td>\n",
       "      <td>175.240005</td>\n",
       "      <td>168.729996</td>\n",
       "      <td>172.630005</td>\n",
       "      <td>74228600</td>\n",
       "      <td>0.0</td>\n",
       "      <td>0.0</td>\n",
       "    </tr>\n",
       "    <tr>\n",
       "      <th>249</th>\n",
       "      <td>178.580002</td>\n",
       "      <td>184.250000</td>\n",
       "      <td>177.380005</td>\n",
       "      <td>177.669998</td>\n",
       "      <td>113186200</td>\n",
       "      <td>0.0</td>\n",
       "      <td>0.0</td>\n",
       "    </tr>\n",
       "    <tr>\n",
       "      <th>250</th>\n",
       "      <td>181.410004</td>\n",
       "      <td>181.910004</td>\n",
       "      <td>176.000000</td>\n",
       "      <td>179.830002</td>\n",
       "      <td>81804000</td>\n",
       "      <td>0.0</td>\n",
       "      <td>0.0</td>\n",
       "    </tr>\n",
       "    <tr>\n",
       "      <th>251</th>\n",
       "      <td>177.449997</td>\n",
       "      <td>179.570007</td>\n",
       "      <td>175.300003</td>\n",
       "      <td>175.789993</td>\n",
       "      <td>77654800</td>\n",
       "      <td>0.0</td>\n",
       "      <td>0.0</td>\n",
       "    </tr>\n",
       "  </tbody>\n",
       "</table>\n",
       "</div>"
      ],
      "text/plain": [
       "           Open        High         Low       Close     Volume  Dividends  \\\n",
       "247  166.690002  171.199997  166.300003  170.830002   75454700        0.0   \n",
       "248  168.759995  175.240005  168.729996  172.630005   74228600        0.0   \n",
       "249  178.580002  184.250000  177.380005  177.669998  113186200        0.0   \n",
       "250  181.410004  181.910004  176.000000  179.830002   81804000        0.0   \n",
       "251  177.449997  179.570007  175.300003  175.789993   77654800        0.0   \n",
       "\n",
       "     Stock Splits  \n",
       "247           0.0  \n",
       "248           0.0  \n",
       "249           0.0  \n",
       "250           0.0  \n",
       "251           0.0  "
      ]
     },
     "execution_count": 104,
     "metadata": {},
     "output_type": "execute_result"
    }
   ],
   "source": [
    "tesla_data.tail()"
   ]
  },
  {
   "cell_type": "code",
   "execution_count": 108,
   "id": "60a16604",
   "metadata": {},
   "outputs": [],
   "source": [
    "def make_graph(stock_data, revenue_data, stock):\n",
    "    fig = make_subplots(rows=2, cols=1, shared_xaxes=True, subplot_titles=(\"Historical Share Price\", \"Historical Revenue\"), vertical_spacing = .3)\n",
    "    stock_data_specific = stock_data[stock_data.Date <= '2021--06-14']\n",
    "    revenue_data_specific = revenue_data[revenue_data.Date <= '2021-04-30']\n",
    "    fig.add_trace(go.Scatter(x=pd.to_datetime(stock_data_specific.Date, infer_datetime_format=True), y=stock_data_specific.Close.astype(\"float\"), name=\"Share Price\"), row=1, col=1)\n",
    "    fig.add_trace(go.Scatter(x=pd.to_datetime(revenue_data_specific.Date, infer_datetime_format=True), y=revenue_data_specific.Revenue.astype(\"float\"), name=\"Revenue\"), row=2, col=1)\n",
    "    fig.update_xaxes(title_text=\"Date\", row=1, col=1)\n",
    "    fig.update_xaxes(title_text=\"Date\", row=2, col=1)\n",
    "    fig.update_yaxes(title_text=\"Price ($US)\", row=1, col=1)\n",
    "    fig.update_yaxes(title_text=\"Revenue ($US Millions)\", row=2, col=1)\n",
    "    fig.update_layout(showlegend=False,\n",
    "    height=900,\n",
    "    title=stock,\n",
    "    xaxis_rangeslider_visible=True)\n",
    "    fig.show()"
   ]
  },
  {
   "cell_type": "code",
   "execution_count": 118,
   "id": "f7796db9",
   "metadata": {},
   "outputs": [],
   "source": [
    "#loop through the rows and columns\n",
    "gme_revenue = pd.DataFrame(columns=[\"Date\",\"Revenue\"])"
   ]
  },
  {
   "cell_type": "code",
   "execution_count": null,
   "id": "bd6dedb6",
   "metadata": {},
   "outputs": [],
   "source": []
  },
  {
   "cell_type": "code",
   "execution_count": null,
   "id": "8cfcffe4",
   "metadata": {},
   "outputs": [],
   "source": []
  }
 ],
 "metadata": {
  "kernelspec": {
   "display_name": "Python 3 (ipykernel)",
   "language": "python",
   "name": "python3"
  },
  "language_info": {
   "codemirror_mode": {
    "name": "ipython",
    "version": 3
   },
   "file_extension": ".py",
   "mimetype": "text/x-python",
   "name": "python",
   "nbconvert_exporter": "python",
   "pygments_lexer": "ipython3",
   "version": "3.11.5"
  }
 },
 "nbformat": 4,
 "nbformat_minor": 5
}
